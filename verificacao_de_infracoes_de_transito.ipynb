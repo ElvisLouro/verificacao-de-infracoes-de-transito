{
  "nbformat": 4,
  "nbformat_minor": 0,
  "metadata": {
    "colab": {
      "provenance": [],
      "authorship_tag": "ABX9TyM0IZ3F2jFacIUz8yc37llP",
      "include_colab_link": true
    },
    "kernelspec": {
      "name": "python3",
      "display_name": "Python 3"
    },
    "language_info": {
      "name": "python"
    }
  },
  "cells": [
    {
      "cell_type": "markdown",
      "metadata": {
        "id": "view-in-github",
        "colab_type": "text"
      },
      "source": [
        "<a href=\"https://colab.research.google.com/github/ElvisLouro/verificacao-de-infracoes-de-transito/blob/main/verificacao_de_infracoes_de_transito.ipynb\" target=\"_parent\"><img src=\"https://colab.research.google.com/assets/colab-badge.svg\" alt=\"Open In Colab\"/></a>"
      ]
    },
    {
      "cell_type": "code",
      "source": [
        "#Instalando o SDK do Google"
      ],
      "metadata": {
        "id": "vLrbHI0gqthw"
      },
      "execution_count": null,
      "outputs": []
    },
    {
      "cell_type": "code",
      "source": [
        "!pip install -q -U google-generativeai"
      ],
      "metadata": {
        "id": "BSMHQiJtrOFz"
      },
      "execution_count": null,
      "outputs": []
    },
    {
      "cell_type": "code",
      "source": [
        "#Configurações iniciais"
      ],
      "metadata": {
        "id": "8hSL6pK_rTSa"
      },
      "execution_count": null,
      "outputs": []
    },
    {
      "cell_type": "code",
      "source": [
        "import google.generativeai as genai\n",
        "import pandas as pd\n",
        "import pprint\n",
        "from google.colab import userdata\n",
        "api_key = userdata.get('SECRET_KEY')\n",
        "genai.configure(api_key=api_key)"
      ],
      "metadata": {
        "id": "SspcMcmWrYzC"
      },
      "execution_count": null,
      "outputs": []
    },
    {
      "cell_type": "code",
      "source": [
        "#Listando os modelos disponíveis\n",
        "for m in genai.list_models():\n",
        "  if 'generateContent' in m.supported_generation_methods:\n",
        "    print(m.name)"
      ],
      "metadata": {
        "colab": {
          "base_uri": "https://localhost:8080/",
          "height": 139
        },
        "id": "obbcmkTmrr7c",
        "outputId": "4cd8c02e-0071-4202-eb42-c3f3aced341f"
      },
      "execution_count": null,
      "outputs": [
        {
          "output_type": "stream",
          "name": "stdout",
          "text": [
            "models/gemini-1.0-pro\n",
            "models/gemini-1.0-pro-001\n",
            "models/gemini-1.0-pro-latest\n",
            "models/gemini-1.0-pro-vision-latest\n",
            "models/gemini-1.5-pro-latest\n",
            "models/gemini-pro\n",
            "models/gemini-pro-vision\n"
          ]
        }
      ]
    },
    {
      "cell_type": "code",
      "source": [
        "generation_config = {\n",
        "  \"candidate_count\": 1,\n",
        "  \"temperature\": 0.5,\n",
        "}"
      ],
      "metadata": {
        "id": "mCLLuk0Rrvzz"
      },
      "execution_count": null,
      "outputs": []
    },
    {
      "cell_type": "code",
      "source": [
        "safety_settings={\n",
        "    'HATE': 'BLOCK_NONE',\n",
        "    'HARASSMENT': 'BLOCK_NONE',\n",
        "    'SEXUAL' : 'BLOCK_NONE',\n",
        "    'DANGEROUS' : 'BLOCK_NONE'\n",
        "    }"
      ],
      "metadata": {
        "id": "ZkNnOSKGtm6E"
      },
      "execution_count": null,
      "outputs": []
    },
    {
      "cell_type": "code",
      "source": [
        "model = genai.GenerativeModel(model_name='gemini-1.0-pro',\n",
        "                                  generation_config=generation_config,\n",
        "                                  safety_settings=safety_settings,)"
      ],
      "metadata": {
        "id": "CBA2w7h-tq54"
      },
      "execution_count": null,
      "outputs": []
    },
    {
      "cell_type": "code",
      "source": [
        "response = model.generate_content(\"Qual documento regula as infrações de transito?\")\n",
        "print(response.text)"
      ],
      "metadata": {
        "id": "231FaLdstuyN",
        "colab": {
          "base_uri": "https://localhost:8080/",
          "height": 34
        },
        "outputId": "812b836f-7d71-40a6-efa9-ea79fbbfd0b1"
      },
      "execution_count": null,
      "outputs": [
        {
          "output_type": "stream",
          "name": "stdout",
          "text": [
            "Código de Trânsito Brasileiro (CTB)\n"
          ]
        }
      ]
    },
    {
      "cell_type": "code",
      "source": [
        "chat = model.start_chat(history=[])"
      ],
      "metadata": {
        "id": "BbqMknVIzStY"
      },
      "execution_count": null,
      "outputs": []
    },
    {
      "cell_type": "code",
      "source": [
        "# Crie um dicionário com informações sobre as infrações\n",
        "infracoes = {\n",
        "    'codigo': ['7455', '5002', '252-VI'],\n",
        "    'descricao': ['Estacionar em local/horário proibido',\n",
        "                   'Conduzir veículo com lacre da placa violado',\n",
        "                   'Dirigir utilizando celular'],\n",
        "    'artigo_ctb': ['181, inciso XVII', '230, inciso V', '252, inciso VI'],\n",
        "    'gravidade': ['Leve', 'Grave', 'Gravíssima'],\n",
        "    'pontos': [3, 5, 7],\n",
        "    'valor': [88.38, 195.23, 293.47]\n",
        "}\n",
        "\n",
        "# Converta o dicionário em um DataFrame do Pandas\n",
        "df_infracoes = pd.DataFrame(infracoes)"
      ],
      "metadata": {
        "id": "LbqVMiLpvjrv"
      },
      "execution_count": null,
      "outputs": []
    },
    {
      "cell_type": "code",
      "source": [
        "def chatbot():\n",
        "  print(\"Olá! Sou um chatbot que te ajuda a entender multas de trânsito.\")\n",
        "  codigo = input(\"Digite o código da infração: \")\n",
        "\n",
        "  # Busca a infração no DataFrame\n",
        "  infracao = df_infracoes[df_infracoes['codigo'] == codigo]\n",
        "\n",
        "  if not infracao.empty:\n",
        "    print(\"\\nInformações sobre a infração:\")\n",
        "    print(f\"Código: {infracao['codigo'].iloc[0]}\")\n",
        "    print(f\"Descrição: {infracao['descricao'].iloc[0]}\")\n",
        "    print(f\"Artigo do CTB: {infracao['artigo_ctb'].iloc[0]}\")\n",
        "    print(f\"Gravidade: {infracao['gravidade'].iloc[0]}\")\n",
        "    print(f\"Pontos na CNH: {infracao['pontos'].iloc[0]}\")\n",
        "    print(f\"Valor: R$ {infracao['valor'].iloc[0]:.2f}\")\n",
        "  else:\n",
        "    print(\"Infração não encontrada. Verifique o código informado.\")"
      ],
      "metadata": {
        "id": "_YrAHBGwvzmY"
      },
      "execution_count": null,
      "outputs": []
    },
    {
      "cell_type": "code",
      "source": [
        "prompt = input('Esperando prompt: ')\n",
        "\n",
        "while prompt != \"fim\":\n",
        "  response = chat.send_message(prompt)\n",
        "  print(\"Resposta:\", response.text, '\\n\\n')\n",
        "  prompt = input('Esperando prompt: ')"
      ],
      "metadata": {
        "id": "4ZYhjc1JzwtR",
        "colab": {
          "base_uri": "https://localhost:8080/",
          "height": 853
        },
        "outputId": "8f9bef70-e83c-4316-8de5-6d71970bc24c"
      },
      "execution_count": 36,
      "outputs": [
        {
          "name": "stdout",
          "output_type": "stream",
          "text": [
            "Esperando prompt: o que acontece se a notificação não chegar em 30 dias\n",
            "Resposta: **Consequências da Não Recebimento da Notificação de Trânsito em 30 Dias**\n",
            "\n",
            "Se a notificação de trânsito não chegar em 30 dias, as seguintes consequências podem ocorrer:\n",
            "\n",
            "* **Perda dos Prazos:** Os prazos para defesa e pagamento da multa podem expirar, resultando em penalidades adicionais.\n",
            "* **Inscrição em Dívida Ativa:** A multa pode ser inscrita em dívida ativa, o que pode dificultar o pagamento e gerar juros e encargos.\n",
            "* **Suspensão do Direito de Dirigir:** Em alguns casos, a não defesa da multa dentro do prazo pode levar à suspensão do direito de dirigir.\n",
            "* **Apreensão do Veículo:** Em casos extremos, o veículo pode ser apreendido por falta de pagamento da multa.\n",
            "\n",
            "**Observações:**\n",
            "\n",
            "* O órgão de trânsito pode considerar a não chegada da notificação como uma justificativa para a perda dos prazos, mas isso não é garantido.\n",
            "* É importante entrar em contato com o órgão de trânsito e solicitar uma segunda via da notificação o mais rápido possível.\n",
            "* Se você perder os prazos por não ter recebido a notificação, entre com recurso alegando cerceamento de defesa.\n",
            "\n",
            "**Dicas:**\n",
            "\n",
            "* Mantenha seus dados cadastrais atualizados no DETRAN.\n",
            "* Verifique sua caixa postal regularmente.\n",
            "* Autorize alguém a receber notificações em seu nome, caso você esteja ausente.\n",
            "* Acompanhe o status de suas multas no site do DETRAN ou do órgão de trânsito responsável. \n",
            "\n",
            "\n",
            "Esperando prompt: quando passa da data de informar o real infrator\n",
            "Resposta: **Consequências de Não Informar o Real Infrator Após o Prazo**\n",
            "\n",
            "Se você não informar o real infrator dentro do prazo estabelecido (geralmente 30 dias), as seguintes consequências podem ocorrer:\n",
            "\n",
            "* **Multa:** Você pode ser multado por não informar o real infrator. O valor da multa varia de acordo com o estado ou município.\n",
            "* **Pontos na Carteira:** Você pode receber pontos na carteira de habilitação por não informar o real infrator. O número de pontos também varia de acordo com a localidade.\n",
            "* **Suspensão do Direito de Dirigir:** Em alguns casos, a não informação do real infrator pode levar à suspensão do direito de dirigir.\n",
            "\n",
            "**Observações:**\n",
            "\n",
            "* O prazo para informar o real infrator começa a contar a partir da data do recebimento da notificação de autuação.\n",
            "* É importante informar o real infrator mesmo que você seja o proprietário do veículo.\n",
            "* Se você não souber quem era o real infrator, você pode informar isso ao órgão de trânsito.\n",
            "\n",
            "**Dicas:**\n",
            "\n",
            "* Anote os dados do real infrator no momento da infração, se possível.\n",
            "* Informe o real infrator dentro do prazo estabelecido.\n",
            "* Guarde o comprovante de envio da informação do real infrator. \n",
            "\n",
            "\n",
            "Esperando prompt: fim\n"
          ]
        }
      ]
    }
  ]
}